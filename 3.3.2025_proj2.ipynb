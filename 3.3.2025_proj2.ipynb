{
 "cells": [
  {
   "cell_type": "markdown",
   "metadata": {},
   "source": [
    "# Prompt\n",
    "\n",
    "how do I use tqdm with a for loop"
   ]
  },
  {
   "cell_type": "markdown",
   "metadata": {},
   "source": [
    "# Response \n",
    "\n",
    "Okay, let's break down how to use `tqdm` effectively with a `for` loop in Python.  `tqdm` provides a smart progress bar for your loops, making it easy to track the progress of long-running operations.\n",
    "\n",
    "**1. Installation**\n",
    "\n",
    "First, if you haven't already, you need to install the `tqdm` package:\n",
    "\n",
    "```bash\n",
    "pip install tqdm\n",
    "```\n",
    "\n",
    "or if you use conda:\n",
    "\n",
    "```bash\n",
    "conda install -c conda-forge tqdm\n",
    "```\n",
    "\n",
    "**2. Basic Usage with `tqdm(iterable)`**\n",
    "\n",
    "The simplest way to use `tqdm` is to wrap your iterable (e.g., a list, range, or generator) with the `tqdm()` function."
   ]
  },
  {
   "cell_type": "code",
   "execution_count": 1,
   "metadata": {},
   "outputs": [
    {
     "name": "stderr",
     "output_type": "stream",
     "text": [
      "100%|██████████| 10/10 [00:05<00:00,  1.95it/s]\n"
     ]
    }
   ],
   "source": [
    "from tqdm import tqdm\n",
    "import time  # For simulating work\n",
    "\n",
    "for i in tqdm(range(10)):\n",
    "    # Simulate some work being done\n",
    "    time.sleep(0.5)  # Sleep for 0.5 seconds\n",
    "    # Your code here that you want to track progress on\n",
    "    # Example:\n",
    "    # result = some_function(i)"
   ]
  },
  {
   "cell_type": "markdown",
   "metadata": {},
   "source": [
    "\n",
    "**Explanation:**\n",
    "\n",
    "*   **`from tqdm import tqdm`**: Imports the `tqdm` function from the `tqdm` library.\n",
    "*   **`tqdm(range(10))`**:  This is the key.  You pass your iterable (`range(10)`) to `tqdm()`.  `tqdm` returns an iterator that behaves just like your original iterable, *but* it also displays a progress bar while you iterate.\n",
    "*   **`time.sleep(0.5)`**:  This is just a placeholder to simulate some work being done in each iteration of the loop.  Replace this with your actual code.\n",
    "*   **Progress Bar**:  As the loop runs, `tqdm` will display a progress bar showing the percentage complete, the elapsed time, the estimated time remaining, and the iteration rate.\n",
    "\n",
    "**3. Customizing the Progress Bar**\n",
    "\n",
    "You can customize the appearance and behavior of the progress bar using keyword arguments to `tqdm()`:"
   ]
  },
  {
   "cell_type": "code",
   "execution_count": 2,
   "metadata": {},
   "outputs": [
    {
     "name": "stderr",
     "output_type": "stream",
     "text": [
      "Processing...: 100%|████████████████████████| 100/100 [00:06<00:00, 16.03item/s]\n"
     ]
    }
   ],
   "source": [
    "from tqdm import tqdm\n",
    "import time\n",
    "\n",
    "for i in tqdm(range(100),\n",
    "                desc=\"Processing...\",  # Description/prefix for the bar\n",
    "                unit=\"item\",          # Unit of measurement (e.g., \"item\", \"file\", \"iteration\")\n",
    "                leave=True,          # Leave the bar on the screen after completion\n",
    "                ncols=80               # Width of the bar (number of characters)\n",
    "               ):\n",
    "    time.sleep(0.05)\n",
    "    # Your code here"
   ]
  },
  {
   "cell_type": "markdown",
   "metadata": {},
   "source": [
    "\n",
    "**Common Keyword Arguments:**\n",
    "\n",
    "*   **`desc`**:  A string to display as a prefix to the progress bar (e.g., `\"Processing files...\"`).\n",
    "*   **`total`**:  The total number of iterations.  If `tqdm` can't automatically determine the length of the iterable, you *must* provide this.  If it can determine the length, you don't need to. Supplying `total` can make the progress bar more accurate.\n",
    "*   **`unit`**:  A string describing the unit of work (e.g., `\"iteration\"`, `\"file\"`, `\"step\"`).  This appears in the rate display (e.g., \"10 items/s\").\n",
    "*   **`leave`**:  A boolean.  If `True` (the default), the progress bar remains on the screen after the loop completes.  If `False`, it's cleared.\n",
    "*   **`ncols`**:  An integer specifying the width of the progress bar in characters.  If `None` (the default), `tqdm` tries to determine the optimal width.\n",
    "*   **`mininterval`**: Minimum progress display update interval (in seconds).  Useful for very fast loops.\n",
    "*   **`maxinterval`**: Maximum progress display update interval (in seconds). If interval is lower than this value, it will be adjusted. Useful for very slow loops.\n",
    "*   **`position`**: Specify the line offset to print this bar (starting from 0). Useful to manage multiple bars at once (see later example).\n",
    "*   **`postfix`**:  Allows you to add extra information to the end of the progress bar.  This is useful for displaying intermediate results.  See example below.\n",
    "\n",
    "**4.  Using `tqdm.write()` for Output**\n",
    "\n",
    "If you need to print output from within the loop *without* messing up the progress bar, use `tqdm.write()` instead of `print()`.  `tqdm.write()` ensures that the output is printed on a separate line and doesn't interfere with the progress bar display."
   ]
  },
  {
   "cell_type": "code",
   "execution_count": 3,
   "metadata": {},
   "outputs": [
    {
     "name": "stderr",
     "output_type": "stream",
     "text": [
      "Processing:  20%|██        | 1/5 [00:00<00:02,  1.95it/s]"
     ]
    },
    {
     "name": "stdout",
     "output_type": "stream",
     "text": [
      "Iteration 0: Completed some task.\n"
     ]
    },
    {
     "name": "stderr",
     "output_type": "stream",
     "text": [
      "Processing:  40%|████      | 2/5 [00:01<00:01,  1.96it/s]"
     ]
    },
    {
     "name": "stdout",
     "output_type": "stream",
     "text": [
      "Iteration 1: Completed some task.\n"
     ]
    },
    {
     "name": "stderr",
     "output_type": "stream",
     "text": [
      "Processing:  60%|██████    | 3/5 [00:01<00:01,  1.95it/s]"
     ]
    },
    {
     "name": "stdout",
     "output_type": "stream",
     "text": [
      "Iteration 2: Completed some task.\n"
     ]
    },
    {
     "name": "stderr",
     "output_type": "stream",
     "text": [
      "Processing:  80%|████████  | 4/5 [00:02<00:00,  1.95it/s]"
     ]
    },
    {
     "name": "stdout",
     "output_type": "stream",
     "text": [
      "Iteration 3: Completed some task.\n"
     ]
    },
    {
     "name": "stderr",
     "output_type": "stream",
     "text": [
      "Processing: 100%|██████████| 5/5 [00:02<00:00,  1.95it/s]"
     ]
    },
    {
     "name": "stdout",
     "output_type": "stream",
     "text": [
      "Iteration 4: Completed some task.\n"
     ]
    },
    {
     "name": "stderr",
     "output_type": "stream",
     "text": [
      "\n"
     ]
    }
   ],
   "source": [
    "from tqdm import tqdm\n",
    "import time\n",
    "\n",
    "for i in tqdm(range(5), desc=\"Processing\"):\n",
    "    time.sleep(0.5)\n",
    "    tqdm.write(f\"Iteration {i}: Completed some task.\")"
   ]
  },
  {
   "cell_type": "markdown",
   "metadata": {},
   "source": [
    "\n",
    "**5.  Updating the Progress Bar Manually (When `total` is Unknown)**\n",
    "\n",
    "Sometimes, you can't determine the total number of iterations *before* the loop starts.  In this case, you can manually update the progress bar using the `update()` method of the `tqdm` object.\n"
   ]
  },
  {
   "cell_type": "code",
   "execution_count": 4,
   "metadata": {},
   "outputs": [
    {
     "name": "stderr",
     "output_type": "stream",
     "text": [
      "Processing data: 15it [00:03,  4.91it/s]\n"
     ]
    }
   ],
   "source": [
    "from tqdm import tqdm\n",
    "import time\n",
    "\n",
    "# Simulate reading from a stream where the total size is unknown\n",
    "def data_stream():\n",
    "    for i in range(15):\n",
    "        yield i\n",
    "        time.sleep(0.2)\n",
    "\n",
    "with tqdm(desc=\"Processing data\") as pbar:\n",
    "    for data in data_stream():\n",
    "        # Process the data\n",
    "        pbar.update(1)  # Increment the progress bar by 1\n",
    "        # Or, increment by a variable amount if processing units of different sizes"
   ]
  },
  {
   "cell_type": "markdown",
   "metadata": {},
   "source": [
    "\n",
    "**Explanation:**\n",
    "\n",
    "*   **`with tqdm(...) as pbar:`**: This creates a `tqdm` object and assigns it to the variable `pbar`.  The `with` statement ensures that the progress bar is properly closed and cleaned up when the loop is finished.\n",
    "*   **`pbar.update(1)`**:  This manually increments the progress bar by 1. You can pass any integer value to `update()` to increment by that amount. If the total number of expected iterations is unknown, the progress bar will simply keep going until the `with` block is exited.\n",
    "\n",
    "**6. Using `set_postfix` to display additional information**\n",
    "\n",
    "`set_postfix` is useful to display additional information about the current state of the loop, such as intermediate results or parameters.\n",
    "\n",
    "Unmodified code:\n",
    "```python\n",
    "from tqdm import tqdm\n",
    "import time\n",
    "import random\n",
    "\n",
    "for i in tqdm(range(10), desc=\"Calculating\"):\n",
    "    result = random.random()  # Simulate a calculation\n",
    "    time.sleep(0.2)\n",
    "    tqdm.set_postfix({\"result\": f\"{result:.4f}\"}) # display result up to 4 decimal places.\n",
    "```\n",
    "\n",
    "## Modified Code"
   ]
  },
  {
   "cell_type": "code",
   "execution_count": 9,
   "metadata": {},
   "outputs": [
    {
     "name": "stderr",
     "output_type": "stream",
     "text": [
      "Calculating:   0%|          | 0/10 [00:00<?, ?it/s]\n"
     ]
    },
    {
     "ename": "AttributeError",
     "evalue": "'dict' object has no attribute 'postfix'",
     "output_type": "error",
     "traceback": [
      "\u001b[1;31m---------------------------------------------------------------------------\u001b[0m",
      "\u001b[1;31mAttributeError\u001b[0m                            Traceback (most recent call last)",
      "Cell \u001b[1;32mIn[9], line 8\u001b[0m\n\u001b[0;32m      6\u001b[0m result \u001b[38;5;241m=\u001b[39m random\u001b[38;5;241m.\u001b[39mrandom()  \u001b[38;5;66;03m# Simulate a calculation\u001b[39;00m\n\u001b[0;32m      7\u001b[0m time\u001b[38;5;241m.\u001b[39msleep(\u001b[38;5;241m0.2\u001b[39m)\n\u001b[1;32m----> 8\u001b[0m \u001b[43mtqdm\u001b[49m\u001b[38;5;241;43m.\u001b[39;49m\u001b[43mset_postfix\u001b[49m\u001b[43m(\u001b[49m\u001b[43m{\u001b[49m\u001b[38;5;124;43m\"\u001b[39;49m\u001b[38;5;124;43mresult\u001b[39;49m\u001b[38;5;124;43m\"\u001b[39;49m\u001b[43m:\u001b[49m\u001b[43m \u001b[49m\u001b[38;5;124;43mf\u001b[39;49m\u001b[38;5;124;43m\"\u001b[39;49m\u001b[38;5;132;43;01m{\u001b[39;49;00m\u001b[43mresult\u001b[49m\u001b[38;5;132;43;01m:\u001b[39;49;00m\u001b[38;5;124;43m.4f\u001b[39;49m\u001b[38;5;132;43;01m}\u001b[39;49;00m\u001b[38;5;124;43m\"\u001b[39;49m\u001b[43m}\u001b[49m\u001b[43m)\u001b[49m\n",
      "File \u001b[1;32mc:\\Users\\schre\\anaconda3\\envs\\dev\\lib\\site-packages\\tqdm\\std.py:1428\u001b[0m, in \u001b[0;36mtqdm.set_postfix\u001b[1;34m(self, ordered_dict, refresh, **kwargs)\u001b[0m\n\u001b[0;32m   1425\u001b[0m         postfix[key] \u001b[38;5;241m=\u001b[39m \u001b[38;5;28mstr\u001b[39m(postfix[key])\n\u001b[0;32m   1426\u001b[0m     \u001b[38;5;66;03m# Else if it's a string, don't need to preprocess anything\u001b[39;00m\n\u001b[0;32m   1427\u001b[0m \u001b[38;5;66;03m# Stitch together to get the final postfix\u001b[39;00m\n\u001b[1;32m-> 1428\u001b[0m \u001b[38;5;28mself\u001b[39m\u001b[38;5;241m.\u001b[39mpostfix \u001b[38;5;241m=\u001b[39m \u001b[38;5;124m'\u001b[39m\u001b[38;5;124m, \u001b[39m\u001b[38;5;124m'\u001b[39m\u001b[38;5;241m.\u001b[39mjoin(key \u001b[38;5;241m+\u001b[39m \u001b[38;5;124m'\u001b[39m\u001b[38;5;124m=\u001b[39m\u001b[38;5;124m'\u001b[39m \u001b[38;5;241m+\u001b[39m postfix[key]\u001b[38;5;241m.\u001b[39mstrip()\n\u001b[0;32m   1429\u001b[0m                          \u001b[38;5;28;01mfor\u001b[39;00m key \u001b[38;5;129;01min\u001b[39;00m postfix\u001b[38;5;241m.\u001b[39mkeys())\n\u001b[0;32m   1430\u001b[0m \u001b[38;5;28;01mif\u001b[39;00m refresh:\n\u001b[0;32m   1431\u001b[0m     \u001b[38;5;28mself\u001b[39m\u001b[38;5;241m.\u001b[39mrefresh()\n",
      "\u001b[1;31mAttributeError\u001b[0m: 'dict' object has no attribute 'postfix'"
     ]
    }
   ],
   "source": [
    "from tqdm import tqdm\n",
    "import time\n",
    "import random\n",
    "\n",
    "for i in tqdm(range(10), desc=\"Calculating\"):\n",
    "    result = random.random()  # Simulate a calculation\n",
    "    time.sleep(0.2)\n",
    "    tqdm.set_postfix({\"result\": f\"{result:.4f}\"}) # display result up to 4 decimal places."
   ]
  },
  {
   "cell_type": "code",
   "execution_count": 8,
   "metadata": {},
   "outputs": [
    {
     "name": "stderr",
     "output_type": "stream",
     "text": [
      "Calculating: 100%|██████████| 10/10 [00:02<00:00,  4.93it/s, result=0.3153]\n"
     ]
    }
   ],
   "source": [
    "from tqdm import tqdm\n",
    "import time\n",
    "import random\n",
    "\n",
    "p=tqdm(range(10), desc=\"Calculating\")\n",
    "\n",
    "for i in p:\n",
    "    result = random.random()  # Simulate a calculation\n",
    "    time.sleep(0.2)\n",
    "    p.set_postfix({\"result\": f\"{result:.4f}\"}) # display result up to 4 decimal places."
   ]
  },
  {
   "cell_type": "markdown",
   "metadata": {},
   "source": [
    "\n",
    "**7. Multiple Progress Bars (Nested Loops)**\n",
    "\n",
    "You can use multiple progress bars for nested loops. The `position` argument allows you to control the vertical placement of the progress bars. Make sure the inner loops have `leave=False` so they disappear and don't clutter the output."
   ]
  },
  {
   "cell_type": "code",
   "execution_count": 6,
   "metadata": {},
   "outputs": [
    {
     "name": "stderr",
     "output_type": "stream",
     "text": [
      "Outer Loop: 100%|██████████| 3/3 [00:03<00:00,  1.03s/it]\n"
     ]
    }
   ],
   "source": [
    "from tqdm import tqdm\n",
    "import time\n",
    "\n",
    "for i in tqdm(range(3), desc=\"Outer Loop\", position=0):\n",
    "    for j in tqdm(range(5), desc=\"Inner Loop\", leave=False, position=1):\n",
    "        time.sleep(0.2)"
   ]
  },
  {
   "cell_type": "markdown",
   "metadata": {},
   "source": [
    "**8.  Pandas Integration**\n",
    "\n",
    "`tqdm` integrates seamlessly with Pandas DataFrames.  You can use `tqdm.pandas()` to add progress bars to Pandas operations like `apply()`."
   ]
  },
  {
   "cell_type": "code",
   "execution_count": 7,
   "metadata": {},
   "outputs": [
    {
     "name": "stderr",
     "output_type": "stream",
     "text": [
      "100%|██████████| 100/100 [00:01<00:00, 63.72it/s]"
     ]
    },
    {
     "name": "stdout",
     "output_type": "stream",
     "text": [
      "    col1  col2\n",
      "0      0     0\n",
      "1      1     2\n",
      "2      2     4\n",
      "3      3     6\n",
      "4      4     8\n",
      "..   ...   ...\n",
      "95    95   190\n",
      "96    96   192\n",
      "97    97   194\n",
      "98    98   196\n",
      "99    99   198\n",
      "\n",
      "[100 rows x 2 columns]\n"
     ]
    },
    {
     "name": "stderr",
     "output_type": "stream",
     "text": [
      "\n"
     ]
    }
   ],
   "source": [
    "import pandas as pd\n",
    "from tqdm import tqdm\n",
    "\n",
    "tqdm.pandas()  # Initialize tqdm for pandas\n",
    "\n",
    "df = pd.DataFrame({'col1': range(100)})\n",
    "\n",
    "def my_function(x):\n",
    "    time.sleep(0.01)  # Simulate some work\n",
    "    return x * 2\n",
    "\n",
    "df['col2'] = df['col1'].progress_apply(my_function) #use `progress_apply` instead of `apply`\n",
    "\n",
    "print(df)"
   ]
  },
  {
   "cell_type": "markdown",
   "metadata": {},
   "source": [
    "\n",
    "**Important Notes:**\n",
    "\n",
    "*   **`iterable` Length**: If `tqdm` can determine the length of the iterable (e.g., from a list or `range`), it will automatically create a progress bar with a percentage indicator.  If it can't (e.g., from a generator), you might need to provide the `total` argument to give it the total number of iterations.\n",
    "*   **Overhead**: `tqdm` does introduce a small overhead to your loop's execution time.  For very short loops, the overhead might be noticeable, but for longer-running loops, it's usually negligible compared to the actual computation time.\n",
    "*   **Jupyter Notebooks**: `tqdm` often works best in a terminal or console.  In Jupyter notebooks, you might need to use `tqdm.notebook` instead of `tqdm` to get the best visual results.  Specifically: `from tqdm.notebook import tqdm`\n",
    "*   **File Redirection**: If you redirect the output of your script to a file, `tqdm` will automatically disable the progress bar to avoid cluttering the file.  You can force the progress bar to be displayed even when redirecting output using the `--force` option in the command line when you run your script: `python your_script.py > output.txt --force` (This may not work in all environments).\n",
    "\n",
    "By using `tqdm`, you can easily monitor the progress of your loops and get a better understanding of how long your code is taking to execute. Remember to choose the right approach (basic wrapping, manual updates, Pandas integration, etc.) based on your specific needs and the characteristics of your loop."
   ]
  },
  {
   "cell_type": "markdown",
   "metadata": {},
   "source": []
  }
 ],
 "metadata": {
  "kernelspec": {
   "display_name": "dev",
   "language": "python",
   "name": "python3"
  },
  "language_info": {
   "codemirror_mode": {
    "name": "ipython",
    "version": 3
   },
   "file_extension": ".py",
   "mimetype": "text/x-python",
   "name": "python",
   "nbconvert_exporter": "python",
   "pygments_lexer": "ipython3",
   "version": "3.10.13"
  }
 },
 "nbformat": 4,
 "nbformat_minor": 2
}
