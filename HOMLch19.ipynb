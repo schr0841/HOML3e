{
 "cells": [
  {
   "cell_type": "markdown",
   "metadata": {},
   "source": [
    "# Chapter 19 – Training and Deploying TensorFlow Models at Scale\n",
    "\n",
    "This notebook contains all the sample code and solutions to the exercises in chapter 19.\n",
    "\n",
    "## Setup\n",
    "This project requires Python 3.7 or above:"
   ]
  },
  {
   "cell_type": "code",
   "execution_count": 1,
   "metadata": {},
   "outputs": [],
   "source": [
    "import sys\n",
    "\n",
    "assert sys.version_info >= (3, 7)"
   ]
  },
  {
   "cell_type": "markdown",
   "metadata": {},
   "source": [
    "**Warning**: the latest TensorFlow versions are based on Keras 3. For chapters 10-15, it wasn't too hard to update the code to support Keras 3, but unfortunately it's much harder for this chapter, so I've had to revert to Keras 2. To do that, I set the ```TF_USE_LEGACY_KERAS ```environment variable to ```\"1\" ```and import the ```tf_keras``` package. This ensures that ```tf.keras``` points to ```tf_keras```, which is Keras 2.*."
   ]
  },
  {
   "cell_type": "code",
   "execution_count": 2,
   "metadata": {},
   "outputs": [],
   "source": [
    "IS_COLAB = \"google.colab\" in sys.modules\n",
    "if IS_COLAB:\n",
    "    import os\n",
    "    os.environ[\"TF_USE_LEGACY_KERAS\"] = \"1\"\n",
    "    import tf_keras"
   ]
  },
  {
   "cell_type": "markdown",
   "metadata": {},
   "source": [
    "And TensorFlow ≥ 2.8:"
   ]
  },
  {
   "cell_type": "code",
   "execution_count": 3,
   "metadata": {},
   "outputs": [],
   "source": [
    "from packaging import version\n",
    "import tensorflow as tf\n",
    "\n",
    "assert version.parse(tf.__version__) >= version.parse(\"2.8.0\")"
   ]
  },
  {
   "cell_type": "markdown",
   "metadata": {},
   "source": [
    "If running on Colab or Kaggle, you need to install the Google AI Platform client library, which will be used later in this notebook. You can ignore the warnings about version incompatibilities.\n",
    "\n",
    "* **Warning**: On Colab, you must restart the Runtime after the installation, and continue with the next cells."
   ]
  },
  {
   "cell_type": "code",
   "execution_count": 4,
   "metadata": {},
   "outputs": [],
   "source": [
    "import sys\n",
    "if \"google.colab\" in sys.modules or \"kaggle_secrets\" in sys.modules:\n",
    "    %pip install -q -U google-cloud-aiplatform"
   ]
  },
  {
   "cell_type": "markdown",
   "metadata": {},
   "source": [
    "This chapter discusses how to run or train a model on one or more GPUs, so let's make sure there's at least one, or else issue a warning:"
   ]
  },
  {
   "cell_type": "code",
   "execution_count": 5,
   "metadata": {},
   "outputs": [],
   "source": [
    "if not tf.config.list_physical_devices('GPU'):\n",
    "    print(\"No GPU was detected. Neural nets can be very slow without a GPU.\")\n",
    "    if \"google.colab\" in sys.modules:\n",
    "        print(\"Go to Runtime > Change runtime and select a GPU hardware \"\n",
    "              \"accelerator.\")\n",
    "    if \"kaggle_secrets\" in sys.modules:\n",
    "        print(\"Go to Settings > Accelerator and select GPU.\")"
   ]
  },
  {
   "cell_type": "markdown",
   "metadata": {},
   "source": [
    "# Serving a TensorFlow Model\n",
    "Let's start by deploying a model using TF Serving, then we'll deploy to Google Vertex AI.\n",
    "\n",
    "## Using TensorFlow Serving\n",
    "The first thing we need to do is to build and train a model, and export it to the SavedModel format.\n",
    "\n",
    "## Exporting SavedModels\n",
    "Let's load the MNIST dataset, scale it, and split it."
   ]
  },
  {
   "cell_type": "code",
   "execution_count": 6,
   "metadata": {},
   "outputs": [
    {
     "name": "stdout",
     "output_type": "stream",
     "text": [
      "Epoch 1/10\n",
      "1719/1719 [==============================] - 3s 1ms/step - loss: 0.6887 - accuracy: 0.8233 - val_loss: 0.3712 - val_accuracy: 0.8996\n",
      "Epoch 2/10\n",
      "1719/1719 [==============================] - 2s 1ms/step - loss: 0.3537 - accuracy: 0.9015 - val_loss: 0.3014 - val_accuracy: 0.9160\n",
      "Epoch 3/10\n",
      "1719/1719 [==============================] - 2s 1ms/step - loss: 0.3052 - accuracy: 0.9141 - val_loss: 0.2681 - val_accuracy: 0.9246\n",
      "Epoch 4/10\n",
      "1719/1719 [==============================] - 2s 1ms/step - loss: 0.2759 - accuracy: 0.9223 - val_loss: 0.2467 - val_accuracy: 0.9286\n",
      "Epoch 5/10\n",
      "1719/1719 [==============================] - 2s 1ms/step - loss: 0.2533 - accuracy: 0.9286 - val_loss: 0.2286 - val_accuracy: 0.9344\n",
      "Epoch 6/10\n",
      "1719/1719 [==============================] - 2s 1ms/step - loss: 0.2345 - accuracy: 0.9340 - val_loss: 0.2144 - val_accuracy: 0.9398\n",
      "Epoch 7/10\n",
      "1719/1719 [==============================] - 2s 1ms/step - loss: 0.2185 - accuracy: 0.9388 - val_loss: 0.1999 - val_accuracy: 0.9452\n",
      "Epoch 8/10\n",
      "1719/1719 [==============================] - 2s 1ms/step - loss: 0.2044 - accuracy: 0.9425 - val_loss: 0.1902 - val_accuracy: 0.9476\n",
      "Epoch 9/10\n",
      "1719/1719 [==============================] - 2s 1ms/step - loss: 0.1919 - accuracy: 0.9461 - val_loss: 0.1801 - val_accuracy: 0.9524\n",
      "Epoch 10/10\n",
      "1719/1719 [==============================] - 2s 1ms/step - loss: 0.1811 - accuracy: 0.9492 - val_loss: 0.1703 - val_accuracy: 0.9544\n",
      "INFO:tensorflow:Assets written to: my_mnist_model\\0001\\assets\n"
     ]
    }
   ],
   "source": [
    "from pathlib import Path\n",
    "import tensorflow as tf\n",
    "\n",
    "# extra code – load and split the MNIST dataset\n",
    "mnist = tf.keras.datasets.mnist.load_data()\n",
    "(X_train_full, y_train_full), (X_test, y_test) = mnist\n",
    "X_valid, X_train = X_train_full[:5000], X_train_full[5000:]\n",
    "y_valid, y_train = y_train_full[:5000], y_train_full[5000:]\n",
    "\n",
    "# extra code – build & train an MNIST model (also handles image preprocessing)\n",
    "tf.random.set_seed(42)\n",
    "tf.keras.backend.clear_session()\n",
    "model = tf.keras.Sequential([\n",
    "    tf.keras.layers.Flatten(input_shape=[28, 28], dtype=tf.uint8),\n",
    "    tf.keras.layers.Rescaling(scale=1 / 255),\n",
    "    tf.keras.layers.Dense(100, activation=\"relu\"),\n",
    "    tf.keras.layers.Dense(10, activation=\"softmax\")\n",
    "])\n",
    "model.compile(loss=\"sparse_categorical_crossentropy\",\n",
    "              optimizer=tf.keras.optimizers.SGD(learning_rate=1e-2),\n",
    "              metrics=[\"accuracy\"])\n",
    "model.fit(X_train, y_train, epochs=10, validation_data=(X_valid, y_valid))\n",
    "\n",
    "model_name = \"my_mnist_model\"\n",
    "model_version = \"0001\"\n",
    "model_path = Path(model_name) / model_version\n",
    "model.save(model_path, save_format=\"tf\")"
   ]
  },
  {
   "cell_type": "markdown",
   "metadata": {},
   "source": [
    "Let's take a look at the file tree (we've discussed what each of these file is used for in chapter 10):"
   ]
  },
  {
   "cell_type": "code",
   "execution_count": 7,
   "metadata": {},
   "outputs": [
    {
     "data": {
      "text/plain": [
       "['my_mnist_model\\\\0001',\n",
       " 'my_mnist_model\\\\0001\\\\assets',\n",
       " 'my_mnist_model\\\\0001\\\\keras_metadata.pb',\n",
       " 'my_mnist_model\\\\0001\\\\saved_model.pb',\n",
       " 'my_mnist_model\\\\0001\\\\variables',\n",
       " 'my_mnist_model\\\\0001\\\\variables\\\\variables.data-00000-of-00001',\n",
       " 'my_mnist_model\\\\0001\\\\variables\\\\variables.index']"
      ]
     },
     "execution_count": 7,
     "metadata": {},
     "output_type": "execute_result"
    }
   ],
   "source": [
    "sorted([str(path) for path in model_path.parent.glob(\"**/*\")])  # extra code"
   ]
  },
  {
   "cell_type": "markdown",
   "metadata": {},
   "source": [
    "Let's inspect the SavedModel:"
   ]
  },
  {
   "cell_type": "code",
   "execution_count": 8,
   "metadata": {},
   "outputs": [
    {
     "name": "stderr",
     "output_type": "stream",
     "text": [
      "Traceback (most recent call last):\n",
      "  File \"C:\\Users\\schre\\anaconda3\\envs\\tf_dev\\lib\\runpy.py\", line 197, in _run_module_as_main\n",
      "    return _run_code(code, main_globals, None,\n",
      "  File \"C:\\Users\\schre\\anaconda3\\envs\\tf_dev\\lib\\runpy.py\", line 87, in _run_code\n",
      "    exec(code, run_globals)\n",
      "  File \"C:\\Users\\schre\\anaconda3\\envs\\tf_dev\\Scripts\\saved_model_cli.exe\\__main__.py\", line 7, in <module>\n",
      "  File \"C:\\Users\\schre\\anaconda3\\envs\\tf_dev\\lib\\site-packages\\tensorflow\\python\\tools\\saved_model_cli.py\", line 1285, in main\n",
      "    args.func(args)\n",
      "  File \"C:\\Users\\schre\\anaconda3\\envs\\tf_dev\\lib\\site-packages\\tensorflow\\python\\tools\\saved_model_cli.py\", line 753, in show\n",
      "    _show_tag_sets(args.dir)\n",
      "  File \"C:\\Users\\schre\\anaconda3\\envs\\tf_dev\\lib\\site-packages\\tensorflow\\python\\tools\\saved_model_cli.py\", line 71, in _show_tag_sets\n",
      "    tag_sets = saved_model_utils.get_saved_model_tag_sets(saved_model_dir)\n",
      "  File \"C:\\Users\\schre\\anaconda3\\envs\\tf_dev\\lib\\site-packages\\tensorflow\\python\\tools\\saved_model_utils.py\", line 87, in get_saved_model_tag_sets\n",
      "    saved_model = read_saved_model(saved_model_dir)\n",
      "  File \"C:\\Users\\schre\\anaconda3\\envs\\tf_dev\\lib\\site-packages\\tensorflow\\python\\tools\\saved_model_utils.py\", line 51, in read_saved_model\n",
      "    raise IOError(\"SavedModel file does not exist at: %s\" % saved_model_dir)\n",
      "OSError: SavedModel file does not exist at: 'my_mnist_model\\0001'\n"
     ]
    }
   ],
   "source": [
    "!saved_model_cli show --dir '{model_path}'"
   ]
  },
  {
   "cell_type": "code",
   "execution_count": 9,
   "metadata": {},
   "outputs": [
    {
     "name": "stderr",
     "output_type": "stream",
     "text": [
      "Traceback (most recent call last):\n",
      "  File \"C:\\Users\\schre\\anaconda3\\envs\\tf_dev\\lib\\runpy.py\", line 197, in _run_module_as_main\n",
      "    return _run_code(code, main_globals, None,\n",
      "  File \"C:\\Users\\schre\\anaconda3\\envs\\tf_dev\\lib\\runpy.py\", line 87, in _run_code\n",
      "    exec(code, run_globals)\n",
      "  File \"C:\\Users\\schre\\anaconda3\\envs\\tf_dev\\Scripts\\saved_model_cli.exe\\__main__.py\", line 7, in <module>\n",
      "  File \"C:\\Users\\schre\\anaconda3\\envs\\tf_dev\\lib\\site-packages\\tensorflow\\python\\tools\\saved_model_cli.py\", line 1285, in main\n",
      "    args.func(args)\n",
      "  File \"C:\\Users\\schre\\anaconda3\\envs\\tf_dev\\lib\\site-packages\\tensorflow\\python\\tools\\saved_model_cli.py\", line 756, in show\n",
      "    _show_signature_def_map_keys(args.dir, args.tag_set)\n",
      "  File \"C:\\Users\\schre\\anaconda3\\envs\\tf_dev\\lib\\site-packages\\tensorflow\\python\\tools\\saved_model_cli.py\", line 89, in _show_signature_def_map_keys\n",
      "    signature_def_map = get_signature_def_map(saved_model_dir, tag_set)\n",
      "  File \"C:\\Users\\schre\\anaconda3\\envs\\tf_dev\\lib\\site-packages\\tensorflow\\python\\tools\\saved_model_cli.py\", line 354, in get_signature_def_map\n",
      "    meta_graph = saved_model_utils.get_meta_graph_def(saved_model_dir, tag_set)\n",
      "  File \"C:\\Users\\schre\\anaconda3\\envs\\tf_dev\\lib\\site-packages\\tensorflow\\python\\tools\\saved_model_utils.py\", line 113, in get_meta_graph_def\n",
      "    saved_model = read_saved_model(saved_model_dir)\n",
      "  File \"C:\\Users\\schre\\anaconda3\\envs\\tf_dev\\lib\\site-packages\\tensorflow\\python\\tools\\saved_model_utils.py\", line 51, in read_saved_model\n",
      "    raise IOError(\"SavedModel file does not exist at: %s\" % saved_model_dir)\n",
      "OSError: SavedModel file does not exist at: 'my_mnist_model\\0001'\n"
     ]
    }
   ],
   "source": [
    "!saved_model_cli show --dir '{model_path}' --tag_set serve"
   ]
  },
  {
   "cell_type": "code",
   "execution_count": 10,
   "metadata": {},
   "outputs": [
    {
     "name": "stderr",
     "output_type": "stream",
     "text": [
      "Traceback (most recent call last):\n",
      "  File \"C:\\Users\\schre\\anaconda3\\envs\\tf_dev\\lib\\runpy.py\", line 197, in _run_module_as_main\n",
      "    return _run_code(code, main_globals, None,\n",
      "  File \"C:\\Users\\schre\\anaconda3\\envs\\tf_dev\\lib\\runpy.py\", line 87, in _run_code\n",
      "    exec(code, run_globals)\n",
      "  File \"C:\\Users\\schre\\anaconda3\\envs\\tf_dev\\Scripts\\saved_model_cli.exe\\__main__.py\", line 7, in <module>\n",
      "  File \"C:\\Users\\schre\\anaconda3\\envs\\tf_dev\\lib\\site-packages\\tensorflow\\python\\tools\\saved_model_cli.py\", line 1285, in main\n",
      "    args.func(args)\n",
      "  File \"C:\\Users\\schre\\anaconda3\\envs\\tf_dev\\lib\\site-packages\\tensorflow\\python\\tools\\saved_model_cli.py\", line 758, in show\n",
      "    _show_inputs_outputs(args.dir, args.tag_set, args.signature_def)\n",
      "  File \"C:\\Users\\schre\\anaconda3\\envs\\tf_dev\\lib\\site-packages\\tensorflow\\python\\tools\\saved_model_cli.py\", line 152, in _show_inputs_outputs\n",
      "    meta_graph_def = saved_model_utils.get_meta_graph_def(saved_model_dir,\n",
      "  File \"C:\\Users\\schre\\anaconda3\\envs\\tf_dev\\lib\\site-packages\\tensorflow\\python\\tools\\saved_model_utils.py\", line 113, in get_meta_graph_def\n",
      "    saved_model = read_saved_model(saved_model_dir)\n",
      "  File \"C:\\Users\\schre\\anaconda3\\envs\\tf_dev\\lib\\site-packages\\tensorflow\\python\\tools\\saved_model_utils.py\", line 51, in read_saved_model\n",
      "    raise IOError(\"SavedModel file does not exist at: %s\" % saved_model_dir)\n",
      "OSError: SavedModel file does not exist at: 'my_mnist_model\\0001'\n"
     ]
    }
   ],
   "source": [
    "!saved_model_cli show --dir '{model_path}' --tag_set serve \\\n",
    "                      --signature_def serving_default"
   ]
  },
  {
   "cell_type": "markdown",
   "metadata": {},
   "source": [
    "For even more details, you can run the following command:\n",
    "\n",
    "```!saved_model_cli show --dir '{model_path}' --all```"
   ]
  },
  {
   "cell_type": "code",
   "execution_count": null,
   "metadata": {},
   "outputs": [],
   "source": []
  }
 ],
 "metadata": {
  "kernelspec": {
   "display_name": "tf_dev",
   "language": "python",
   "name": "python3"
  },
  "language_info": {
   "codemirror_mode": {
    "name": "ipython",
    "version": 3
   },
   "file_extension": ".py",
   "mimetype": "text/x-python",
   "name": "python",
   "nbconvert_exporter": "python",
   "pygments_lexer": "ipython3",
   "version": "3.9.21"
  }
 },
 "nbformat": 4,
 "nbformat_minor": 2
}
