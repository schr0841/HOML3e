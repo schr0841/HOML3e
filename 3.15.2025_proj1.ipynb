{
 "cells": [
  {
   "cell_type": "markdown",
   "metadata": {},
   "source": [
    "# Conversation History"
   ]
  },
  {
   "cell_type": "markdown",
   "metadata": {},
   "source": [
    "# user: \n",
    "\n"
   ]
  },
  {
   "cell_type": "code",
   "execution_count": 1,
   "metadata": {},
   "outputs": [],
   "source": [
    "# Create data for training set. First generate 100 random numbers. The random numbers will be from 0 to 1. Mmultiply these numbers with 100. Then reshape it in 50 rows and 2 columns.\n",
    "# Generate a Random point for test data.\n",
    "# Now define a function kNearestNeighborClassifier for calculating K nearest neighbor points.\n",
    "# calculate the distances of a new 'point' (which is not in the 'dataset') from all the points in the 'dataset'.\n",
    "# Write the K-NN algorithm using the following steps:\n",
    "# Store the first K-points\n",
    "# Compare the (K+1)-th point with the point having the largest distance among the already stored points\n",
    "# if (k+1)-th distance is less than the previous one, we will add this point and remove the previous one.\n",
    "# Repeat this till all points in the training dataset is exhausted.\n",
    "\n",
    "# Implement a K-NN algorithm using Python and give according to above points\n"
   ]
  },
  {
   "cell_type": "code",
   "execution_count": 1,
   "metadata": {},
   "outputs": [
    {
     "name": "stdout",
     "output_type": "stream",
     "text": [
      "The k nearest neighbors are:\n",
      "[[62.29524285 94.84991171]\n",
      " [69.60735098 96.86459215]\n",
      " [49.56590993 92.50338671]\n",
      " [58.69743224 67.56945452]\n",
      " [83.44444675 84.14162364]]\n"
     ]
    }
   ],
   "source": [
    "import numpy as np\n",
    "import random\n",
    "\n",
    "# Generate 100 random numbers between 0 and 100\n",
    "random_numbers = np.random.rand(100) * 100\n",
    "\n",
    "# Reshape the array into 50 rows and 2 columns\n",
    "training_set = random_numbers.reshape(50, 2)\n",
    "\n",
    "# Generate a random point for test data\n",
    "test_point = np.random.rand(2) * 100\n",
    "\n",
    "def kNearestNeighborClassifier(dataset, test_point, k):\n",
    "  \"\"\"\n",
    "  Finds the k nearest neighbors of a test point in a given dataset.\n",
    "\n",
    "  Args:\n",
    "    dataset: A 2D NumPy array containing the training data.\n",
    "    test_point: A 1D NumPy array representing the test point.\n",
    "    k: The number of neighbors to find.\n",
    "\n",
    "  Returns:\n",
    "    A list of indices of the k nearest neighbors in the dataset.\n",
    "  \"\"\"\n",
    "\n",
    "  distances = np.linalg.norm(dataset - test_point, axis=1)\n",
    "  sorted_indices = np.argsort(distances)\n",
    "\n",
    "  return sorted_indices[:k]\n",
    "\n",
    "# Calculate the distances of the test point from all points in the training set\n",
    "distances = np.linalg.norm(training_set - test_point, axis=1)\n",
    "\n",
    "# Find the k nearest neighbors\n",
    "k = 5\n",
    "nearest_neighbors = np.argsort(distances)[:k]\n",
    "\n",
    "# Print the k nearest neighbors\n",
    "print(\"The k nearest neighbors are:\")\n",
    "print(training_set[nearest_neighbors])"
   ]
  },
  {
   "cell_type": "markdown",
   "metadata": {},
   "source": [
    "# User Prompt:\n",
    "You are tasked with implementing a K-Nearest Neighbors (K-NN) algorithm in Python. Find the k nearest neighbors of the test point by:\n",
    "\n",
    "* Initializing the first k points as the current neighbors.\n",
    "* Iterating over the remaining points and, for each one, replacing the neighbor with the largest distance if the new point is closer.\n",
    "* Returning the final set of k neighbors.\n",
    "* If k is greater than or equal to the number of points in the dataset, return the entire dataset.\n",
    "* Duplicate items are eligible for inclusion in the final set of neighbors"
   ]
  },
  {
   "cell_type": "code",
   "execution_count": 2,
   "metadata": {},
   "outputs": [],
   "source": [
    "import numpy as np\n",
    "\n",
    "def knn_custom(dataset, test_point, k):\n",
    "    \"\"\"\n",
    "    Finds the k nearest neighbors of 'test_point' in 'dataset' using a custom K-NN approach.\n",
    "    \n",
    "    Args:\n",
    "        dataset (numpy.ndarray): Shape (N, 2), the training data.\n",
    "        test_point (numpy.ndarray): Shape (2,), the test point.\n",
    "        k (int): Number of neighbors to find.\n",
    "\n",
    "    Returns:\n",
    "        neighbors (numpy.ndarray): Shape (k, 2), the k nearest neighbors.\n",
    "    \"\"\"\n",
    "    current_neighbors = dataset[:k].copy()\n",
    "    # Your Code here\n",
    "    return current_neighbors"
   ]
  },
  {
   "cell_type": "markdown",
   "metadata": {},
   "source": [
    "# Model Response:"
   ]
  },
  {
   "cell_type": "code",
   "execution_count": 3,
   "metadata": {},
   "outputs": [],
   "source": [
    "import numpy as np\n",
    "\n",
    "def knn_custom(dataset, test_point, k):\n",
    "    \"\"\"\n",
    "    Finds the k nearest neighbors of 'test_point' in 'dataset' using a custom K-NN approach.\n",
    "    \n",
    "    Args:\n",
    "        dataset (numpy.ndarray): Shape (N, 2), the training data.\n",
    "        test_point (numpy.ndarray): Shape (2,), the test point.\n",
    "        k (int): Number of neighbors to find.\n",
    "\n",
    "    Returns:\n",
    "        neighbors (numpy.ndarray): Shape (k, 2), the k nearest neighbors.\n",
    "    \"\"\"\n",
    "    if k >= len(dataset):\n",
    "        return dataset\n",
    "\n",
    "    current_neighbors = dataset[:k].copy()\n",
    "    distances = np.linalg.norm(current_neighbors - test_point, axis=1)\n",
    "    \n",
    "    for i in range(k, len(dataset)):\n",
    "        dist = np.linalg.norm(dataset[i] - test_point)\n",
    "        max_dist_index = np.argmax(distances)\n",
    "        \n",
    "        if dist < distances[max_dist_index]:\n",
    "            current_neighbors[max_dist_index] = dataset[i]\n",
    "            distances[max_dist_index] = dist\n",
    "\n",
    "    return current_neighbors"
   ]
  },
  {
   "cell_type": "markdown",
   "metadata": {},
   "source": [
    "# Test knn_custom()"
   ]
  },
  {
   "cell_type": "code",
   "execution_count": 4,
   "metadata": {},
   "outputs": [
    {
     "data": {
      "text/plain": [
       "array([[58.69743224, 67.56945452],\n",
       "       [49.56590993, 92.50338671],\n",
       "       [69.60735098, 96.86459215],\n",
       "       [83.44444675, 84.14162364],\n",
       "       [62.29524285, 94.84991171]])"
      ]
     },
     "execution_count": 4,
     "metadata": {},
     "output_type": "execute_result"
    }
   ],
   "source": [
    "knn_custom(training_set, test_point, k)"
   ]
  },
  {
   "cell_type": "markdown",
   "metadata": {},
   "source": []
  }
 ],
 "metadata": {
  "kernelspec": {
   "display_name": "dev",
   "language": "python",
   "name": "python3"
  },
  "language_info": {
   "codemirror_mode": {
    "name": "ipython",
    "version": 3
   },
   "file_extension": ".py",
   "mimetype": "text/x-python",
   "name": "python",
   "nbconvert_exporter": "python",
   "pygments_lexer": "ipython3",
   "version": "3.10.13"
  }
 },
 "nbformat": 4,
 "nbformat_minor": 2
}
